{
 "cells": [
  {
   "cell_type": "code",
   "execution_count": 246,
   "metadata": {},
   "outputs": [],
   "source": [
    "#import statements\n",
    "import cv2\n",
    "import numpy as np\n",
    "import dlib\n",
    "import time\n",
    "from matplotlib import pyplot as plt\n"
   ]
  },
  {
   "cell_type": "markdown",
   "metadata": {},
   "source": [
    "Outlining the steps:\n",
    "\n",
    "1. Detecting facial landmarks\n",
    "2. Find Delaunay Triangulation\n",
    "3. Warping Triangular Mesh\n",
    "4. Reconstruct faces\n"
   ]
  },
  {
   "cell_type": "code",
   "execution_count": 247,
   "metadata": {},
   "outputs": [],
   "source": [
    "#Load up images \n",
    "\n",
    "first_image_path = \"images/traeDaddy.png\"\n",
    "second_image_path = \"images/lukaBum.png\"\n",
    "\n",
    "img = cv2.imread(first_image_path)\n",
    "grayImg = cv2.cvtColor(img, cv2.COLOR_BGR2GRAY)\n",
    "mask = np.zeros_like(grayImg)\n",
    "\n",
    "img2 = cv2.imread(second_image_path)\n",
    "grayImg2 = cv2.cvtColor(img2, cv2.COLOR_BGR2GRAY)\n",
    "\n",
    "\n",
    "#Load up trained model to find 68 points on face\n",
    "detector = dlib.get_frontal_face_detector()\n",
    "predictor = dlib.shape_predictor(\"shape_predictor_68_face_landmarks.dat\")\n",
    "\n"
   ]
  },
  {
   "cell_type": "code",
   "execution_count": 248,
   "metadata": {},
   "outputs": [],
   "source": [
    "#Helper functions\n",
    "def getIndex(arr):\n",
    "    index = 0\n",
    "    for i in arr[0]:\n",
    "        index = i\n",
    "        break\n",
    "    return index\n",
    "\n",
    "\n",
    "def findCenter(x, y, w, h):\n",
    "    return (int((x + x + w) / 2), int((y + y + h) / 2))\n",
    "\n",
    "def extractPoints(t):\n",
    "    one = (t[0], t[1])\n",
    "    two = (t[2], t[3])\n",
    "    three = (t[4], t[5])\n",
    "    return (one, two, three)"
   ]
  },
  {
   "cell_type": "code",
   "execution_count": 249,
   "metadata": {},
   "outputs": [],
   "source": [
    "#Height, width and channels are for the target image\n",
    "height, width, channels = img2.shape\n",
    "newlyConstructedFace = np.zeros((height, width, channels), np.uint8)\n"
   ]
  },
  {
   "cell_type": "code",
   "execution_count": 250,
   "metadata": {},
   "outputs": [],
   "source": [
    "def getLandmarkPoints(img, face):\n",
    "    #Generate prediction of face\n",
    "    landmarkPrediction = predictor(grayImg, face)\n",
    "    numPoints = 68\n",
    "    allLandmarkPoints = []\n",
    "    for n in range(numPoints):\n",
    "        #Get x and y coordinates of every point of landmarks\n",
    "        x = landmarkPrediction.part(n).x\n",
    "        y = landmarkPrediction.part(n).y\n",
    "        allLandmarkPoints.append((x, y))\n",
    "    return allLandmarkPoints\n",
    "\n",
    "    \n",
    "def delaunayTriangulation(triangles):\n",
    "    trinagleIndex = []\n",
    "    for t in triangles:\n",
    "        pointOne, pointTwo,pointThree = extractPoints(t)\n",
    "        \n",
    "        #Grad index of all 3 points on the triangle and addd to list\n",
    "        pointOneIndex = np.where((points == pointOne).all(axis=1))\n",
    "        pointOneIndex = getIndex(pointOneIndex)\n",
    "\n",
    "        pointTwoIndex = np.where((points == pointTwo).all(axis=1))\n",
    "        pointTwoIndex = getIndex(pointTwoIndex)\n",
    "\n",
    "        pointThreeIndex = np.where((points == pointThree).all(axis=1))\n",
    "        pointThreeIndex = getIndex(pointThreeIndex)\n",
    "\n",
    "        #Making sure each point has a value\n",
    "        if None not in (pointOneIndex, pointTwoIndex, pointThreeIndex):\n",
    "            trinagleIndex.append([pointOneIndex, pointTwoIndex, pointThreeIndex])\n",
    "    return trinagleIndex\n"
   ]
  },
  {
   "cell_type": "code",
   "execution_count": 251,
   "metadata": {},
   "outputs": [
    {
     "name": "stdout",
     "output_type": "stream",
     "text": [
      "rectangles[[(370, 130) (680, 439)]]\n",
      "[(389, 254), (392, 286), (397, 319), (402, 352), (409, 385), (426, 412), (453, 431), (487, 441), (522, 445), (558, 441), (590, 428), (615, 409), (631, 383), (639, 351), (643, 317), (648, 283), (652, 248), (404, 213), (416, 188), (441, 179), (468, 181), (495, 188), (531, 189), (560, 182), (587, 181), (611, 190), (626, 211), (512, 212), (513, 229), (514, 247), (515, 266), (493, 293), (504, 294), (516, 295), (528, 294), (540, 292), (437, 231), (449, 223), (464, 221), (480, 227), (464, 232), (449, 233), (553, 227), (567, 221), (582, 223), (594, 232), (581, 233), (566, 231), (469, 347), (487, 333), (505, 325), (520, 327), (534, 324), (553, 330), (572, 344), (555, 356), (538, 360), (522, 361), (506, 361), (488, 359), (477, 346), (506, 339), (521, 340), (535, 338), (565, 343), (536, 341), (521, 342), (506, 341)]\n"
     ]
    }
   ],
   "source": [
    "\n",
    "# Face 1\n",
    "faces = detector(grayImg)\n",
    "print(faces)\n",
    "for face in faces:\n",
    "    features = predictor(grayImg, face)\n",
    "    facialPoints = getLandmarkPoints(grayImg, face)\n",
    "    print(facialPoints)\n",
    "\n",
    "    points = np.array(facialPoints, np.int32)\n",
    "    hull = cv2.convexHull(points)\n",
    "    cv2.fillConvexPoly(mask, hull, 255)\n",
    "\n",
    "    face_image_1 = cv2.bitwise_and(img, img, mask=mask)\n",
    "\n",
    "    # Delaunay triangulation\n",
    "    rectangle = cv2.boundingRect(hull)\n",
    "    divide = cv2.Subdiv2D(rectangle)\n",
    "    divide.insert(facialPoints)\n",
    "    triangles = np.array(divide.getTriangleList(), dtype=np.int32)\n",
    "\n",
    "    triangleIndexes = delaunayTriangulation(triangles)"
   ]
  },
  {
   "cell_type": "code",
   "execution_count": 252,
   "metadata": {},
   "outputs": [
    {
     "name": "stdout",
     "output_type": "stream",
     "text": [
      "rectangles[[(370, 164) (680, 474)]]\n",
      "[(388, 255), (393, 289), (399, 324), (405, 357), (416, 387), (436, 413), (462, 430), (495, 441), (531, 444), (567, 439), (597, 426), (620, 406), (634, 380), (640, 348), (642, 313), (646, 279), (649, 244), (402, 212), (415, 189), (439, 179), (466, 180), (492, 188), (532, 189), (558, 182), (585, 181), (610, 189), (627, 210), (512, 210), (513, 228), (514, 246), (515, 266), (493, 293), (504, 295), (516, 297), (528, 294), (541, 293), (436, 231), (448, 221), (464, 219), (479, 226), (464, 231), (448, 232), (552, 227), (565, 220), (581, 222), (594, 230), (581, 233), (565, 231), (474, 346), (489, 331), (507, 323), (522, 326), (535, 323), (554, 330), (574, 344), (556, 355), (538, 360), (524, 360), (508, 359), (490, 355), (482, 344), (507, 338), (522, 340), (535, 338), (565, 343), (536, 339), (523, 340), (507, 338)]\n"
     ]
    }
   ],
   "source": [
    "# Face 2\n",
    "faces2 = detector(grayImg2)\n",
    "print(faces2)\n",
    "for face in faces2:\n",
    "    features = predictor(grayImg2, face)\n",
    "    facialPointsTwo = getLandmarkPoints(grayImg2, face)\n",
    "    print(facialPointsTwo)\n",
    "    allPointsTwo = np.array(facialPointsTwo, np.int32)\n",
    "    hullTwo = cv2.convexHull(allPointsTwo)\n",
    "\n",
    "lineSpaceMaskFirst = np.zeros_like(grayImg)"
   ]
  },
  {
   "cell_type": "code",
   "execution_count": 253,
   "metadata": {},
   "outputs": [],
   "source": [
    "def getUpdatedPoints(one, two, three,x,y):\n",
    "    points = np.array([[one[0] - x, one[1] - y],\n",
    "                   [two[0] - x, two[1] - y],\n",
    "                   [three[0] - x, three[1] - y]], np.int32)\n",
    "    return points\n",
    "\n",
    "\n",
    "def triangulation(facialPoints, newTriangle):\n",
    "    one = facialPoints[newTriangle[0]]\n",
    "    two = facialPoints[newTriangle[1]]\n",
    "    three = facialPoints[newTriangle[2]]\n",
    "\n",
    "    rectangleOne = cv2.boundingRect(np.array([one, two, three], np.int32))\n",
    "    (x, y, w, h) = rectangleOne\n",
    "    cropped_triangle = img[y: y + h, x: x + w]\n",
    "    triMaskOne = np.zeros((h, w), np.uint8)\n",
    "\n",
    "    points = getUpdatedPoints(one, two, three,x,y)\n",
    "\n",
    "    return points, one, two, three, triMaskOne, cropped_triangle, (x, y, w, h)\n",
    "\n",
    "def warpTriangles(points, allPointsTwo):\n",
    "    #Making sure they are numpy arrays of floats\n",
    "    points, allPointsTwo = np.float32(points), np.float32(allPointsTwo)\n",
    "\n",
    "    M = cv2.getAffineTransform(points, allPointsTwo)\n",
    "    warpedTri = cv2.warpAffine(cropped_triangle, M, (w, h))\n",
    "    \n",
    "    #Perform bitwise and \n",
    "    warpedTri = cv2.bitwise_and(warpedTri, warpedTri, mask=tri2Mask)\n",
    "    \n",
    "    return warpedTri\n",
    "\n",
    "\n",
    "def reconstructFinalFace(newlyConstructedFace, warped, coords2):\n",
    "    x, y, w, h = coords2[0],coords2[1],coords2[2],coords2[3]\n",
    "    \n",
    "    rectArea = newlyConstructedFace[y: y + h, x: x + w]\n",
    "    rectTriangleGrey = cv2.cvtColor(rectArea, cv2.COLOR_BGR2GRAY)\n",
    "    _, mask_triangles_designed = cv2.threshold(rectTriangleGrey, 1, 255, cv2.THRESH_BINARY_INV)\n",
    "    warped = cv2.bitwise_and(warped, warped, mask=mask_triangles_designed)\n",
    "\n",
    "    rectArea = cv2.add(rectArea, warped)\n",
    "    newlyConstructedFace[y: y + h, x: x + w] = rectArea\n",
    "    \n",
    "    return newlyConstructedFace\n",
    "\n",
    "\n",
    "# Perform triangulation (both faces)\n",
    "for newTriangle in triangleIndexes:\n",
    "    # First face \n",
    "    points, triOne, triTwo, triThree ,triMaskOne,cropped_triangle,coords = triangulation(facialPoints,newTriangle)\n",
    "\n",
    "    rgbValue = 255\n",
    "    cv2.fillConvexPoly(triMaskOne, points, rgbValue)\n",
    "\n",
    "    # Lines space for first face\n",
    "    cv2.line(lineSpaceMaskFirst, triOne, triTwo, rgbValue)\n",
    "    cv2.line(lineSpaceMaskFirst, triTwo, triThree, rgbValue)\n",
    "    cv2.line(lineSpaceMaskFirst, triOne, triThree, rgbValue)\n",
    "    lineSpace = cv2.bitwise_and(img, img, mask = lineSpaceMaskFirst)\n",
    "\n",
    "    # Triangulation of second face\n",
    "    allPointsTwo, tri2One, tri2Two, tri2Three, tri2Mask, cropped_triangle2,coords2 = triangulation(facialPointsTwo,newTriangle)\n",
    "    cv2.fillConvexPoly(tri2Mask, allPointsTwo, 255)\n",
    "    x, y, w, h = coords2[0],coords2[1],coords2[2],coords2[3]\n",
    "    \n",
    "    #Warp triangles\n",
    "    warpedTri = warpTriangles(points, allPointsTwo)\n",
    "    \n",
    "    # Reconstructing destination face\n",
    "    newlyConstructedFace = reconstructFinalFace(newlyConstructedFace, warpedTri,coords2)\n",
    "\n"
   ]
  },
  {
   "cell_type": "code",
   "execution_count": null,
   "metadata": {},
   "outputs": [],
   "source": [
    "\n",
    "# Face swapped (putting 1st face into 2nd face)\n",
    "img2MaskFace = np.zeros_like(grayImg2)\n",
    "img2MaskHead = cv2.fillConvexPoly(img2MaskFace, hullTwo, 255)\n",
    "img2MaskFace = cv2.bitwise_not(img2MaskHead)\n",
    "\n",
    "\n",
    "noFace = cv2.bitwise_and(img2, img2, mask=img2MaskFace)\n",
    "result = cv2.add(noFace, newlyConstructedFace)\n",
    "\n",
    "(x, y, w, h) = cv2.boundingRect(hullTwo)\n",
    "\n",
    "center_face2 = findCenter(x, y, w, h)\n",
    "transformedImage = cv2.seamlessClone(result, img2, img2MaskHead, center_face2, cv2.NORMAL_CLONE)\n",
    "\n",
    "#Output image by opening new window\n",
    "cv2.imshow(\"MORPHED_FACE\", transformedImage)\n",
    "\n",
    "#Press the 0 key to exit \n",
    "cv2.waitKey(0)\n",
    "cv2.destroyAllWindows()\n",
    "\n"
   ]
  },
  {
   "cell_type": "code",
   "execution_count": null,
   "metadata": {},
   "outputs": [],
   "source": []
  },
  {
   "cell_type": "code",
   "execution_count": null,
   "metadata": {},
   "outputs": [],
   "source": []
  }
 ],
 "metadata": {
  "kernelspec": {
   "display_name": "Python 3 (ipykernel)",
   "language": "python",
   "name": "python3"
  },
  "language_info": {
   "codemirror_mode": {
    "name": "ipython",
    "version": 3
   },
   "file_extension": ".py",
   "mimetype": "text/x-python",
   "name": "python",
   "nbconvert_exporter": "python",
   "pygments_lexer": "ipython3",
   "version": "3.9.7"
  }
 },
 "nbformat": 4,
 "nbformat_minor": 4
}
